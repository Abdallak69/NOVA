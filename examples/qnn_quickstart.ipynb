{
  "cells": [
    {
      "cell_type": "code",
      "execution_count": null,
      "metadata": {},
      "outputs": [],
      "source": [
        "# NOVA QNN Quickstart\n",
        "\n",
        "#This notebook demonstrates training a QNN for H2 energy estimation.\n",
        "\n"
      ]
    },
    {
      "cell_type": "code",
      "execution_count": null,
      "metadata": {},
      "outputs": [],
      "source": [
        "from nova.core.qnn_molecular_energy import MolecularQNN\n",
        "\n",
        "qnn = MolecularQNN(molecule=\"H2\", bond_length=0.74, ansatz_type=\"hardware_efficient\", depth=2)\n",
        "results = qnn.train(iterations=100, method=\"BFGS\")\n",
        "results['energy']\n"
      ]
    }
  ],
  "metadata": {
    "language_info": {
      "name": "python"
    }
  },
  "nbformat": 4,
  "nbformat_minor": 2
}
