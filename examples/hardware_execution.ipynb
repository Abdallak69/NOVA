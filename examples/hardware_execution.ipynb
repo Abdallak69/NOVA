{
  "cells": [
    {
      "cell_type": "markdown",
      "metadata": {},
      "source": [
        "# NOVA Hardware Execution\n",
        "\n",
        "Run NOVA on simulators or real hardware with optional error mitigation.\n"
      ]
    },
    {
      "cell_type": "code",
      "execution_count": null,
      "metadata": {},
      "outputs": [],
      "source": [
        "from nova.core.qnn_molecular_energy import MolecularQNN\n",
        "from nova.hardware.quantum_hardware_interface import CirqSimulatorBackend\n",
        "from nova.mitigation.quantum_error_mitigation import ZeroNoiseExtrapolation\n",
        "\n",
        "backend = CirqSimulatorBackend(name=\"cirq_simulator\")\n",
        "mitigation = ZeroNoiseExtrapolation()\n",
        "\n",
        "qnn = MolecularQNN(\n",
        "    molecule=\"H2\",\n",
        "    bond_length=0.74,\n",
        "    ansatz_type=\"ucc\",\n",
        "    hardware_backend=backend,\n",
        "    error_mitigation=mitigation,\n",
        ")\n",
        "\n",
        "results = qnn.train(iterations=50)\n",
        "results['energy']\n"
      ]
    }
  ],
  "metadata": {
    "language_info": {
      "name": "python"
    }
  },
  "nbformat": 4,
  "nbformat_minor": 2
}
